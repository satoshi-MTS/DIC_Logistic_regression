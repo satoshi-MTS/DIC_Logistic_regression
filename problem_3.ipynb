{
 "cells": [
  {
   "cell_type": "markdown",
   "id": "77e65abd-42ef-4d60-b506-c751d23e01cb",
   "metadata": {},
   "source": [
    "## 【問題3】推定\n",
    "推定する仕組みを実装してください。ScratchLogisticRegressionクラスの雛形に含まれるpredictメソッドとpredict_probaメソッドに書き加えてください。\n",
    "\n",
    "\n",
    "仮定関数$h_\\theta(x)$の出力がpredict_probaの戻り値、さらにその値に閾値を設けて1と0のラベルとしたものがpredictの戻り値となります。"
   ]
  },
  {
   "cell_type": "code",
   "execution_count": 1,
   "id": "63449a5a-e1aa-49a2-899b-fc9548318ed5",
   "metadata": {},
   "outputs": [],
   "source": [
    "import numpy as np\n",
    "import pandas as pd\n",
    "import matplotlib.pyplot as plt"
   ]
  },
  {
   "cell_type": "code",
   "execution_count": 34,
   "id": "7e8685af-1b11-4ff3-88cd-26fba5f98f22",
   "metadata": {},
   "outputs": [],
   "source": [
    "theta = np.array([[0, 0]]).T # 更新後と仮定\n",
    "train_X = np.array([[1, 1, 1, 1, 1], [0, 1, 2, 3, 4]]).T\n",
    "test_X = np.array([[1, 1, 1, 1, 1], [5, 6, 7, 8, 9]]).T\n",
    "train_y = np.array([[3, 3, 3, 3, 3]]).T\n",
    "test_y = np.array([[5, 5, 5, 5, 5]]).T"
   ]
  },
  {
   "cell_type": "code",
   "execution_count": 35,
   "id": "ba9c178d-ed40-4d82-8aa0-008f5549ea10",
   "metadata": {},
   "outputs": [],
   "source": [
    "def _linear_hypothesis(X, theta):\n",
    "    \"\"\"\n",
    "    線形の仮定関数を計算する\n",
    "    Parameters\n",
    "    ----------\n",
    "    X : 次の形のndarray, shape (n_samples, n_features)\n",
    "    訓練データ\n",
    "    theta : 次の形のndarray, shape (n_features, 1)\n",
    "    重み\n",
    "     \n",
    "    Returns\n",
    "    -------\n",
    "      次の形のndarray, shape (n_samples, 1)\n",
    "      線形の仮定関数による推定結果\n",
    "    \"\"\"\n",
    "    \n",
    "    h = 1 / (1 + np.exp(-(X @ theta)))\n",
    "    \n",
    "    return h"
   ]
  },
  {
   "cell_type": "code",
   "execution_count": 36,
   "id": "ec7ebf5c-e535-445a-9ae8-ebe828949da5",
   "metadata": {},
   "outputs": [],
   "source": [
    "def predict_proba(test_X, last_theta):\n",
    "    \"\"\"\n",
    "    ロジスティック回帰を行い、確率(閾値なし)で出力\n",
    "    Parameters\n",
    "    ----------\n",
    "    test_X : 次の形のndarray, shape (n_samples, n_features)\n",
    "    テストデータ\n",
    "    last_theta : 次の形のndarray, shape (n_features, 1)\n",
    "    最終更新後の重み\n",
    "    \n",
    "    Returns\n",
    "    -------\n",
    "        次の形のndarray, shape (n_samples, 1)\n",
    "        ロジスティック解析の結果\n",
    "    \"\"\"\n",
    "    y_proba = _linear_hypothesis(test_X, last_theta)\n",
    "    \n",
    "    return y_proba"
   ]
  },
  {
   "cell_type": "code",
   "execution_count": 37,
   "id": "1aef42f9-87c7-46c4-87bf-f08056907c66",
   "metadata": {},
   "outputs": [],
   "source": [
    "def predict(test_X, last_theta):\n",
    "    \"\"\"\n",
    "    ロジスティック回帰を行い、クラス(閾値0.5)で出力\n",
    "    Parameters\n",
    "    ----------\n",
    "    test_X : 次の形のndarray, shape (n_samples, n_features)\n",
    "    テストデータ\n",
    "    last_theta : 次の形のndarray, shape (n_features, 1)\n",
    "    最終更新後の重み\n",
    "    \n",
    "    Returns\n",
    "    -------\n",
    "        次の形のndarray, shape (n_samples, 1)\n",
    "        ロジスティック解析の結果を閾値0.5でクラス分けしたもの\n",
    "    \"\"\"\n",
    "    y_pred = (predict_proba(test_X, last_theta) * 2 // 1).astype('int')\n",
    "    \n",
    "    return y_pred"
   ]
  },
  {
   "cell_type": "code",
   "execution_count": 38,
   "id": "95593905-2273-4b81-9469-49f7561c1f2c",
   "metadata": {},
   "outputs": [
    {
     "data": {
      "text/plain": [
       "array([[0.5],\n",
       "       [0.5],\n",
       "       [0.5],\n",
       "       [0.5],\n",
       "       [0.5]])"
      ]
     },
     "execution_count": 38,
     "metadata": {},
     "output_type": "execute_result"
    }
   ],
   "source": [
    "predict_proba(test_X, theta)"
   ]
  },
  {
   "cell_type": "code",
   "execution_count": 39,
   "id": "1fb1313f-a19d-4d2b-a1a9-0f62ac8cad56",
   "metadata": {},
   "outputs": [
    {
     "data": {
      "text/plain": [
       "array([[1],\n",
       "       [1],\n",
       "       [1],\n",
       "       [1],\n",
       "       [1]])"
      ]
     },
     "execution_count": 39,
     "metadata": {},
     "output_type": "execute_result"
    }
   ],
   "source": [
    "predict(test_X, theta)"
   ]
  },
  {
   "cell_type": "code",
   "execution_count": null,
   "id": "666412ef-c0a4-4311-b6a4-4d650f51ebc6",
   "metadata": {},
   "outputs": [],
   "source": []
  }
 ],
 "metadata": {
  "kernelspec": {
   "display_name": "Python 3",
   "language": "python",
   "name": "python3"
  },
  "language_info": {
   "codemirror_mode": {
    "name": "ipython",
    "version": 3
   },
   "file_extension": ".py",
   "mimetype": "text/x-python",
   "name": "python",
   "nbconvert_exporter": "python",
   "pygments_lexer": "ipython3",
   "version": "3.8.8"
  }
 },
 "nbformat": 4,
 "nbformat_minor": 5
}
