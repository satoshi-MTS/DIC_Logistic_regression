{
 "cells": [
  {
   "cell_type": "markdown",
   "id": "af63a8e4-9fcb-4975-8116-07f1e2116209",
   "metadata": {},
   "source": [
    "## 【問題4】目的関数\n",
    "以下の数式で表されるロジスティック回帰の 目的関数（損失関数） を実装してください。そして、これをself.loss, self.val_lossに記録するようにしてください。\n",
    "\n",
    "\n",
    "なお、この数式には正則化項が含まれています。\n",
    "\n",
    "\n",
    "＊数式が見切れる場合、DIVERを全画面にして御覧ください。"
   ]
  },
  {
   "cell_type": "code",
   "execution_count": 1,
   "id": "b5a37574-a7fb-4b9b-b6bf-4790dc0724bc",
   "metadata": {},
   "outputs": [],
   "source": [
    "def _linear_hypothesis(X, theta):\n",
    "    \"\"\"\n",
    "    線形の仮定関数を計算する\n",
    "    Parameters\n",
    "    ----------\n",
    "    X : 次の形のndarray, shape (n_samples, n_features)\n",
    "    訓練データ\n",
    "    theta : 次の形のndarray, shape (n_features, 1)\n",
    "    重み\n",
    "\n",
    "    Returns\n",
    "    -------\n",
    "      次の形のndarray, shape (n_samples, 1)\n",
    "      線形の仮定関数による推定結果\n",
    "    \"\"\"\n",
    "\n",
    "    h = 1 / (1 + np.exp(-(X @ theta.T)))\n",
    "\n",
    "    return h "
   ]
  },
  {
   "cell_type": "code",
   "execution_count": 15,
   "id": "de24f797-4b73-42d5-a9e1-8dc094ab7fd3",
   "metadata": {},
   "outputs": [],
   "source": [
    "def get_loss(test_X, test_y, theta):\n",
    "    \"\"\"\n",
    "    平均二乗誤差の計算\n",
    "    Parameters\n",
    "    ----------\n",
    "    y_pred : 次の形のndarray, shape (n_samples,)\n",
    "      推定した値\n",
    "    y : 次の形のndarray, shape (n_samples,)\n",
    "      正解値\n",
    "    theta_T\n",
    "    Returns\n",
    "    ----------\n",
    "    mse : numpy.float\n",
    "      平均二乗誤差\n",
    "    \"\"\"\n",
    "    # LAMBDA=1と仮定\n",
    "    \n",
    "    h = _linear_hypothesis(test_X, theta)\n",
    "    sigma_1 = (np.log(h).T @ (-1 * test_y)) - (np.log(1 - h).T @ (1 - test_y))\n",
    "    sigma_2 = theta @ theta.T\n",
    "    loss = 1 / h.shape[0] * sigma_1 + 0.1 / h.shape[0] * sigma_2\n",
    "\n",
    "    return loss"
   ]
  },
  {
   "cell_type": "code",
   "execution_count": 16,
   "id": "90b6c6c5-b1ff-4946-b175-3b49de8e36db",
   "metadata": {},
   "outputs": [],
   "source": [
    "import numpy as np\n",
    "import pandas as pd\n",
    "import matplotlib.pyplot as plt"
   ]
  },
  {
   "cell_type": "code",
   "execution_count": 17,
   "id": "769af63c-7737-451b-b659-dbfe9c65dec3",
   "metadata": {},
   "outputs": [],
   "source": [
    "h = np.array([[0.01, 0.1, 0.2, 0.3, 0.4]]) # 更新後と仮定\n",
    "theta = np.array([[0.01, 0.1]]) # 更新後と仮定\n",
    "train_X = np.array([[1, 1, 1, 1, 1], [0, 1, 2, 3, 4]]).T\n",
    "test_X = np.array([[1, 1, 1, 1, 1], [5, 6, 7, 8, 9]]).T\n",
    "train_y = np.array([[0, 0, 1, 1, 1]]).T\n",
    "test_y = np.array([[0, 1, 0, 1, 1]]).T\n",
    "loss = np.zeros((h_history.shape[0], 1))"
   ]
  },
  {
   "cell_type": "code",
   "execution_count": 18,
   "id": "2fc6dd64-468c-470e-9948-bbc2bd965073",
   "metadata": {},
   "outputs": [
    {
     "data": {
      "text/plain": [
       "array([[4.65604252]])"
      ]
     },
     "execution_count": 18,
     "metadata": {},
     "output_type": "execute_result"
    }
   ],
   "source": [
    "loss = (np.log(h_history) @ (-1 * test_y)) - (np.log(1 - h_history) @ (1 - test_y))\n",
    "loss # iteration, 1"
   ]
  },
  {
   "cell_type": "code",
   "execution_count": 19,
   "id": "f5bfcfff-8f76-48c7-ab54-b3e9e4311947",
   "metadata": {},
   "outputs": [],
   "source": [
    "h = _linear_hypothesis(test_X, theta)"
   ]
  },
  {
   "cell_type": "code",
   "execution_count": 20,
   "id": "4206ff59-8277-43e9-afc1-2ef86e8ad49b",
   "metadata": {},
   "outputs": [
    {
     "data": {
      "text/plain": [
       "array([[3.23043298]])"
      ]
     },
     "execution_count": 20,
     "metadata": {},
     "output_type": "execute_result"
    }
   ],
   "source": [
    "(np.log(h).T @ (-1 * test_y)) - (np.log(1 - h).T @ (1 - test_y))"
   ]
  },
  {
   "cell_type": "code",
   "execution_count": 21,
   "id": "e24edcde-fa43-4a79-a828-20a3ad051672",
   "metadata": {},
   "outputs": [
    {
     "data": {
      "text/plain": [
       "array([[0.6462886]])"
      ]
     },
     "execution_count": 21,
     "metadata": {},
     "output_type": "execute_result"
    }
   ],
   "source": [
    "get_loss(test_X, test_y, theta)"
   ]
  },
  {
   "cell_type": "code",
   "execution_count": null,
   "id": "18b0aa46-385f-4e1e-b269-480d3ac10138",
   "metadata": {},
   "outputs": [],
   "source": []
  }
 ],
 "metadata": {
  "kernelspec": {
   "display_name": "Python 3",
   "language": "python",
   "name": "python3"
  },
  "language_info": {
   "codemirror_mode": {
    "name": "ipython",
    "version": 3
   },
   "file_extension": ".py",
   "mimetype": "text/x-python",
   "name": "python",
   "nbconvert_exporter": "python",
   "pygments_lexer": "ipython3",
   "version": "3.8.8"
  }
 },
 "nbformat": 4,
 "nbformat_minor": 5
}
