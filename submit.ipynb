{
 "cells": [
  {
   "cell_type": "markdown",
   "id": "7148f20b-952d-4c87-a5be-21786167b911",
   "metadata": {},
   "source": [
    "# 【問題1】仮定関数\n",
    "ロジスティック回帰の仮定関数のメソッドをScratchLogisticRegressionクラスに実装してください。\n",
    "\n",
    "\n",
    "ロジスティック回帰の仮定関数は、線形回帰の仮定関数を シグモイド関数 に通したものです。シグモイド関数は以下の式で表されます。\n",
    "\n",
    "$$g(z) = \\frac{1}{1+e^{-\\theta^T x}}$$"
   ]
  },
  {
   "cell_type": "code",
   "execution_count": 1,
   "id": "933d75aa-dd22-49f4-94f7-bc0c5b189422",
   "metadata": {},
   "outputs": [],
   "source": [
    "import numpy as np\n",
    "import pandas as pd\n",
    "import matplotlib.pyplot as plt\n",
    "\n",
    "def _linear_hypothesis(X, theta):\n",
    "    \"\"\"\n",
    "    線形の仮定関数を計算する\n",
    "    Parameters\n",
    "    ----------\n",
    "    X : 次の形のndarray, shape (n_samples, n_features)\n",
    "      訓練データ\n",
    "    theta_T : 次の形のndarray, shape (n_features, 1)\n",
    "    Returns\n",
    "    -------\n",
    "      次の形のndarray, shape (n_samples, 1)\n",
    "      線形の仮定関数による推定結果\n",
    "    \"\"\"\n",
    "    \n",
    "    h = 1 / (1 + np.exp(-(X @ theta)))\n",
    "    \n",
    "    return h"
   ]
  },
  {
   "cell_type": "markdown",
   "id": "21551c46-f1c8-43f0-9525-bd3cbc5cbfd0",
   "metadata": {},
   "source": [
    "## 【問題2】最急降下法\n",
    "最急降下法により学習させる実装を行なってください。以下の式で表されるパラメータの更新式のメソッド_gradient_descentを追加し、fitメソッドから呼び出すようにしてください。\n",
    "\n",
    "$$\\frac{\\partial j(\\theta)}{\\partial\\theta_j} = \\frac{1}{m}\\sum_{i=1}^m(h_\\theta(x^{(i)})-y^{(i)}x_j^{(i)})+\\frac{\\lambda}{m}\\theta_j$$\n",
    "\n",
    "ただしバイアスに対しての更新式は\n",
    "$$\\frac{\\partial j(\\theta)}{\\partial\\theta_0} = \\frac{1}{m}\\sum_{i=1}^m(h_\\theta(x^{(i)})-y^{(i)}x_j^{(i)})$$\n",
    "とする。  \n",
    "バイアスの重みにペナルティを与えない(正則化項の微分を加えない)理由としては、バイアスに関してはペナルティによらず自由に動いてほしいからという理由らしい...  \n",
    "  \n",
    "線形回帰とかの正則化項がないモデルとバイアスの値が大きく変わってしまうから？？  \n",
    "仮にペナルティが大きいとバイアスがないのと同義になってしまうから？"
   ]
  },
  {
   "cell_type": "code",
   "execution_count": 2,
   "id": "677834c8-2a03-4254-b951-da85a5e94003",
   "metadata": {},
   "outputs": [],
   "source": [
    "def _gradient_descent(X, y, theta, lr=0.1, lambd = 1.0 ):\n",
    "    \"\"\"\n",
    "    傾きを計算する。\n",
    "    Parameters\n",
    "    ----------\n",
    "    X : 次の形のndarray, shape (n_samples, n_features)\n",
    "    訓練データ\n",
    "    y : 次の形のndarray, shape (n_samples, 1)\n",
    "    目的データ\n",
    "    theta : 次の形のndarray, shape(n_features, 1)\n",
    "    更新されていく重み\n",
    "    lr : float\n",
    "    学習率\n",
    "    lambd : float\n",
    "    ペナルティの重み\n",
    "    Returns\n",
    "    -------\n",
    "    次の形のndarray, shape (n_samples, 1)\n",
    "    更新後のtheta\n",
    "    \"\"\"\n",
    "    for j in range(X.shape[1]):\n",
    "        \n",
    "        #\n",
    "        #バイアス\n",
    "        #\n",
    "        if j == 0:\n",
    "        \n",
    "            sigma = (X[:, j].T @ (_linear_hypothesis(X, theta) - y))\n",
    "            theta[j] = theta[j] - ((lr / X.shape[0]) * sigma)\n",
    "        #\n",
    "        # バイアス以外\n",
    "        #\n",
    "        else:\n",
    "            \n",
    "            sigma = (X[:, j].T @ (_linear_hypothesis(X, theta) - y))\n",
    "            theta[j] = theta[j] - (1 / X.shape[0] * (sigma + lambd  * theta[j]))\n",
    "\n",
    "    return theta"
   ]
  },
  {
   "cell_type": "markdown",
   "id": "e9a5e413-d4ba-46cf-91fc-c589db68e674",
   "metadata": {},
   "source": [
    "## 【問題4】目的関数\n",
    "以下の数式で表されるロジスティック回帰の 目的関数（損失関数） を実装してください。そして、これをself.loss, self.val_lossに記録するようにしてください。\n",
    "\n",
    "\n",
    "なお、この数式には正則化項が含まれています。\n",
    "\n",
    "\n",
    "＊数式が見切れる場合、DIVERを全画面にして御覧ください。"
   ]
  },
  {
   "cell_type": "code",
   "execution_count": 3,
   "id": "29790c11-3266-481d-8b39-71499482e195",
   "metadata": {},
   "outputs": [],
   "source": [
    "def get_loss(test_X, test_y, theta):\n",
    "    \"\"\"\n",
    "    平均二乗誤差の計算\n",
    "    Parameters\n",
    "    ----------\n",
    "    y_pred : 次の形のndarray, shape (n_samples,)\n",
    "      推定した値\n",
    "    y : 次の形のndarray, shape (n_samples,)\n",
    "      正解値\n",
    "    theta_T\n",
    "    Returns\n",
    "    ----------\n",
    "    mse : numpy.float\n",
    "      平均二乗誤差\n",
    "    \"\"\"\n",
    "    # LAMBDA=1と仮定\n",
    "    \n",
    "    h = _linear_hypothesis(test_X, theta)\n",
    "    sigma_1 = (np.log(h).T @ (-1 * test_y)) - (np.log(1 - h).T @ (1 - test_y))\n",
    "    sigma_2 = theta @ theta.T\n",
    "    loss = 1 / h.shape[0] * sigma_1 + 0.1 / h.shape[0] * sigma_2\n",
    "\n",
    "    return loss"
   ]
  },
  {
   "cell_type": "markdown",
   "id": "ebc3c70e-2de5-47eb-9aa8-c52e642c9f8d",
   "metadata": {},
   "source": [
    "# 【問題3】推定\n",
    "推定する仕組みを実装してください。ScratchLogisticRegressionクラスの雛形に含まれるpredictメソッドとpredict_probaメソッドに書き加えてください。\n",
    "\n",
    "\n",
    "仮定関数 \n",
    "h\n",
    "θ\n",
    "(\n",
    "x\n",
    ")\n",
    " の出力がpredict_probaの戻り値、さらにその値に閾値を設けて1と0のラベルとしたものがpredictの戻り値となります。"
   ]
  },
  {
   "cell_type": "markdown",
   "id": "142503aa-ba86-46be-b57a-126d54afec1f",
   "metadata": {},
   "source": [
    "# 【問題5】学習と推定\n",
    "機械学習スクラッチ入門のSprintで用意したirisデータセットのvirgicolorとvirginicaの2値分類に対してスクラッチ実装の学習と推定を行なってください。\n",
    "\n",
    "\n",
    "scikit-learnによる実装と比べ、正しく動いているかを確認してください。\n",
    "\n",
    "\n",
    "AccuracyやPrecision、Recallなどの指標値はscikit-learnを使用してください。"
   ]
  },
  {
   "cell_type": "code",
   "execution_count": 4,
   "id": "084595f2-0662-4d1e-af2d-e13669735b9a",
   "metadata": {},
   "outputs": [],
   "source": [
    "import numpy as np\n",
    "import matplotlib.pyplot as plt\n",
    "\n",
    "class ScratchLogisticRegression():\n",
    "    \"\"\"\n",
    "    ロジスティック回帰のスクラッチ実装\n",
    "    Parameters\n",
    "    ----------\n",
    "    num_iter : int\n",
    "      イテレーション数\n",
    "    lr : float\n",
    "      学習率\n",
    "    verbose : bool\n",
    "      学習過程を出力する場合はTrue\n",
    "    C : float\n",
    "     ペナルティの大きさ\n",
    "     \n",
    "    Attributes\n",
    "    ----------\n",
    "    self.coef_ : 次の形のndarray, shape (n_features,)\n",
    "      重み\n",
    "    self.intercept_ : 次の形のndarray, shape (1,)\n",
    "      切片\n",
    "    self.loss : 次の形のndarray, shape (self.iter,)\n",
    "      訓練データに対する損失の記録\n",
    "    self.val_loss : 次の形のndarray, shape (self.iter,)\n",
    "      検証データに対する損失の記録\n",
    "    \"\"\"\n",
    "    \n",
    "    \n",
    "    def __init__(self, num_iter, lr, bias=True, verbose=False, C=1.0):\n",
    "        # ハイパーパラメータを属性として記録\n",
    "        self.iter = num_iter\n",
    "        self.lr = lr\n",
    "        self.bias = bias\n",
    "        self.verbose = verbose\n",
    "        self.C = C\n",
    "        # 損失を記録する配列を用意\n",
    "        self.loss = np.zeros(self.iter)\n",
    "        self.val_loss = np.zeros(self.iter)\n",
    "    \n",
    "    \n",
    "    def _linear_hypothesis(self, X, theta):\n",
    "        \"\"\"\n",
    "        ロジスティック回帰の仮定関数を計算する\n",
    "        Parameters\n",
    "        ----------\n",
    "        X : 次の形のndarray, shape (n_samples, n_features+1)\n",
    "        訓練データ\n",
    "        theta : 次の形のndarray, shape (n_features, 1)\n",
    "        重み\n",
    "\n",
    "        Returns\n",
    "        -------\n",
    "          次の形のndarray, shape (n_samples, 1)\n",
    "          線形の仮定関数による推定結果\n",
    "        \"\"\"\n",
    "\n",
    "        h = 1 / (1 + np.exp(-(X @ theta)))\n",
    "\n",
    "        return h    \n",
    "\n",
    "    \n",
    "    def _gradient_descent(self, X, y, theta):\n",
    "        \"\"\"\n",
    "        傾きを計算する。 \n",
    "        Parameters\n",
    "        ----------\n",
    "        X : 次の形のndarray, shape (n_samples, n_features)\n",
    "        訓練データ\n",
    "        y : 次の形のndarray, shape (n_samples, 1)\n",
    "        目的データ\n",
    "        theta : 次の形のndarray, shape(n_features, 1)\n",
    "        更新されていく重み\n",
    "        lr : float\n",
    "        学習率\n",
    "        Returns\n",
    "        -------\n",
    "        次の形のndarray, shape (n_samples, 1)\n",
    "        更新後のtheta\n",
    "        \"\"\"\n",
    "        for j in range(X.shape[1]):\n",
    "\n",
    "            #\n",
    "            #バイアス\n",
    "            #\n",
    "            if j == 0:\n",
    "             \n",
    "                sigma = (X[:, j].T @ (self._linear_hypothesis(X, theta) - y))\n",
    "                theta[j] = theta[j] - ((self.lr / X.shape[0]) * sigma)\n",
    "            #\n",
    "            # バイアス以外\n",
    "            #\n",
    "            else:\n",
    "\n",
    "                sigma = (X[:, j].T @ (self._linear_hypothesis(X, theta) - y))\n",
    "                theta[j] = theta[j] - (self.lr / X.shape[0] * (sigma + self.C  * theta[j]))\n",
    "\n",
    "        return theta\n",
    "    \n",
    "    \n",
    "    def fit(self, train_X, train_y, X_val=None, y_val=None):\n",
    "        \"\"\"\n",
    "        ロジスティック回帰を学習する。検証データが入力された場合はそれに対する損失と精度もイテレーションごとに計算する。\n",
    "        Parameters\n",
    "        ----------\n",
    "        X : 次の形のndarray, shape (n_samples, n_features)\n",
    "            訓練データの特徴量\n",
    "        y : 次の形のndarray, shape (n_samples, )\n",
    "            訓練データの正解値\n",
    "        X_val : 次の形のndarray, shape (n_samples, n_features)\n",
    "            検証データの特徴量\n",
    "        y_val : 次の形のndarray, shape (n_samples, )\n",
    "            検証データの正解値\n",
    "        \"\"\"\n",
    "        \n",
    "        #\n",
    "        #バイアス項がある場合\n",
    "        #\n",
    "        if self.bias == True:\n",
    "            \n",
    "            # X_0の調整\n",
    "            X_0 = np.ones((train_X.shape[0], 1))\n",
    "            # X.shape(Xのサンプル数、Xの特徴量数+1)\n",
    "            X = np.concatenate([X_0, train_X], axis=1)\n",
    "            # yの設定\n",
    "            y = train_y.values\n",
    "            # 重みの設定\n",
    "            theta = np.zeros((1, X.shape[1]))  \n",
    "            # theta_T.shape(1,  特徴量数)\n",
    "            theta_T = theta.T\n",
    "            #検証データ用のtheta保管\n",
    "            theta_history = np.zeros((self.iter, X.shape[1]))\n",
    "            \n",
    "            \n",
    "            for i in range(self.iter):\n",
    "                theta_T = self._gradient_descent(X, y, theta_T)\n",
    "                self.loss[i] = self.get_loss(X, y, theta_T)\n",
    "                theta_history[i] = theta_T.T\n",
    "\n",
    "            # 計算後をグローバルに\n",
    "            self.last_theta_T = theta_T\n",
    "            self.coef_ = theta_T.T[:, 1:]\n",
    "            self.intercept_ = theta_T.T[:, 0]\n",
    "\n",
    "            # 学習仮定出力\n",
    "            if self.verbose == True:\n",
    "                print('学習過程 : {}'.format(self.loss))\n",
    "\n",
    "\n",
    "            #   \n",
    "            # 検証データがONのとき\n",
    "            #\n",
    "            \n",
    "            if type(train_X)==type(X_val):\n",
    "\n",
    "                # X_0の調整\n",
    "                X_0 = np.ones((X_val.shape[0], 1))\n",
    "                # X.shape(Xのサンプル数、Xの特徴量数+1)\n",
    "                X = np.concatenate([X_0, X_val], axis=1)\n",
    "                # yの設定\n",
    "                y = y_val.values\n",
    "                \n",
    "                # theta_historyを用いた損失関数の指揮を書く\n",
    "                for i in range(self.iter):\n",
    "                    theta_T = theta_history[i]\n",
    "                    theta_T = theta_T.reshape(theta_T.shape[0], 1)\n",
    "                    self.val_loss[i] = self.get_loss(X, y, theta_T)\n",
    "\n",
    "                \n",
    "    def get_loss(self, X, y, theta):\n",
    "        \"\"\"\n",
    "        誤差関数の計算\n",
    "        Parameters\n",
    "        ----------\n",
    "        X : 次の形のndarray, shape (n_samples, n_features)\n",
    "        訓練データ\n",
    "        y : 次の形のndarray, shape (n_samples, 1)\n",
    "        目的データ\n",
    "        theta : 次の形のndarray, shape(n_features, 1)\n",
    "        更新されていく重み\n",
    "        Returns\n",
    "        ----------\n",
    "        loss : numpy.float\n",
    "          誤差\n",
    "        \"\"\"\n",
    "\n",
    "        h = self._linear_hypothesis(X, theta)\n",
    "        sigma_1 = (np.log(h).T @ (-1 * y)) - (np.log(1 - h).T @ (1 - y))\n",
    "        sigma_2 = theta.T @ theta\n",
    "                \n",
    "        loss = 1 / h.shape[0] * sigma_1 + 0.1 / h.shape[0] * sigma_2\n",
    "\n",
    "        return loss\n",
    "    \n",
    "    def predict(self, test_X):\n",
    "        \"\"\"\n",
    "        ロジスティック回帰を行い、クラス(閾値0.5)で出力\n",
    "        Parameters\n",
    "        ----------\n",
    "        test_X : 次の形のndarray, shape (n_samples, n_features)\n",
    "        テストデータ\n",
    "\n",
    "        Returns\n",
    "        -------\n",
    "            次の形のndarray, shape (n_samples, 1)\n",
    "            ロジスティック解析の結果を閾値0.5でクラス分けしたもの\n",
    "        \"\"\"\n",
    "        # X_0の調整\n",
    "        X_0 = np.ones((test_X.shape[0], 1))\n",
    "        # X.shape(Xのサンプル数、Xの特徴量数+1)\n",
    "        X = np.concatenate([X_0, test_X], axis=1)\n",
    "        \n",
    "        y_pred = (self._linear_hypothesis(X, self.last_theta_T) * 2 // 1).astype('int')\n",
    "\n",
    "        return y_pred\n",
    "    \n",
    "    \n",
    "    def predict_proba(self, test_X):\n",
    "        \"\"\"\n",
    "        ロジスティック回帰を行い、確率(閾値なし)で出力\n",
    "        Parameters\n",
    "        ----------\n",
    "        test_X : 次の形のndarray, shape (n_samples, n_features)\n",
    "        テストデータ\n",
    "\n",
    "        Returns\n",
    "        -------\n",
    "            次の形のndarray, shape (n_samples, 1)\n",
    "            ロジスティック解析の結果\n",
    "        \"\"\"\n",
    "        \n",
    "        # X_0の調整\n",
    "        X_0 = np.ones((test_X.shape[0], 1))\n",
    "        # X.shape(Xのサンプル数、Xの特徴量数+1)\n",
    "        X = np.concatenate([X_0, test_X], axis=1)\n",
    "\n",
    "        y_proba = self._linear_hypothesis(X, self.last_theta_T)\n",
    "\n",
    "        return y_proba\n",
    "    "
   ]
  },
  {
   "cell_type": "markdown",
   "id": "e82a70dc-6701-4736-b069-c0d2135260d9",
   "metadata": {},
   "source": [
    "## データの読み込み"
   ]
  },
  {
   "cell_type": "code",
   "execution_count": 5,
   "id": "89066e1e-d318-4a84-9998-057f2c55bd87",
   "metadata": {},
   "outputs": [],
   "source": [
    "from sklearn.datasets import load_iris\n",
    "iris = load_iris()\n",
    "import pandas as pd\n",
    "X = pd.DataFrame(iris.data, columns=iris.feature_names)\n",
    "y = pd.DataFrame(iris.target)\n",
    "y = y.rename(columns={0 : 'Species'})\n",
    "X = X.iloc[:100]\n",
    "y = y.iloc[:100]"
   ]
  },
  {
   "cell_type": "markdown",
   "id": "d93e79e3-b317-44b3-b0f8-c8cdca648cc9",
   "metadata": {},
   "source": [
    "## 標準化"
   ]
  },
  {
   "cell_type": "code",
   "execution_count": 6,
   "id": "77ec6fce-2e36-40b6-95fb-4f0cfc6040a9",
   "metadata": {},
   "outputs": [],
   "source": [
    "from sklearn.preprocessing import StandardScaler\n",
    "scaler = StandardScaler()\n",
    "X = scaler.fit_transform(X)"
   ]
  },
  {
   "cell_type": "markdown",
   "id": "d40c9cdb-f835-405d-9e69-54d41e7c17af",
   "metadata": {},
   "source": [
    "## データ分割"
   ]
  },
  {
   "cell_type": "code",
   "execution_count": 7,
   "id": "162ebf83-e71f-42f0-a922-09b75f10e899",
   "metadata": {},
   "outputs": [],
   "source": [
    "from sklearn.model_selection import train_test_split\n",
    "X_75, X_25 = train_test_split(X, random_state=0)\n",
    "y_75, y_25 = train_test_split(y, random_state=0)"
   ]
  },
  {
   "cell_type": "markdown",
   "id": "fa25cf3c-a66b-4276-b3d9-90f2ce5693e9",
   "metadata": {},
   "source": [
    "## 既存モデルでの分類"
   ]
  },
  {
   "cell_type": "code",
   "execution_count": 8,
   "id": "4545bf91-e265-4719-ac2e-778801d2d7e5",
   "metadata": {},
   "outputs": [],
   "source": [
    "from sklearn.linear_model import LogisticRegression\n",
    "LR = LogisticRegression(penalty='l2', C=1.0, random_state=0, max_iter=100)\n",
    "LR.fit(X_75, np.ravel(y_75))\n",
    "LR_pred = LR.predict(X_25)\n",
    "LR_pred_proba = LR.predict_proba(X_25)"
   ]
  },
  {
   "cell_type": "markdown",
   "id": "72a7b9a8-be05-43a5-ab6f-259b7a9378de",
   "metadata": {},
   "source": [
    "### 評価"
   ]
  },
  {
   "cell_type": "code",
   "execution_count": 9,
   "id": "94d886f3-cf14-47cd-bd12-7dbcc90b8b18",
   "metadata": {},
   "outputs": [
    {
     "name": "stdout",
     "output_type": "stream",
     "text": [
      "              precision    recall  f1-score   support\n",
      "\n",
      "           0       1.00      1.00      1.00        13\n",
      "           1       1.00      1.00      1.00        12\n",
      "\n",
      "    accuracy                           1.00        25\n",
      "   macro avg       1.00      1.00      1.00        25\n",
      "weighted avg       1.00      1.00      1.00        25\n",
      "\n"
     ]
    }
   ],
   "source": [
    "from sklearn.metrics import classification_report\n",
    "print(classification_report(y_25, LR_pred))"
   ]
  },
  {
   "cell_type": "code",
   "execution_count": 10,
   "id": "cf1f89cc-de15-40f8-ad85-dbc8aa59f008",
   "metadata": {},
   "outputs": [
    {
     "data": {
      "text/plain": [
       "1.0"
      ]
     },
     "execution_count": 10,
     "metadata": {},
     "output_type": "execute_result"
    }
   ],
   "source": [
    "import sklearn.metrics as me\n",
    "from sklearn.metrics import roc_auc_score\n",
    "\n",
    "roc_auc_score(y_25, LR_pred_proba[:, 1])\n",
    "# print('AUC : {}'.format(roc_auc_score(y_25, LR_pred_proba[:, 0], multi_class='ovr')))"
   ]
  },
  {
   "cell_type": "markdown",
   "id": "f2a1f417-f75a-4695-9a59-c9904ae560f5",
   "metadata": {},
   "source": [
    "## 自作モデル\n",
    "### 検証データ無し"
   ]
  },
  {
   "cell_type": "code",
   "execution_count": 11,
   "id": "4ac37226-2fa1-400c-8b1b-dbfe767e8887",
   "metadata": {},
   "outputs": [],
   "source": [
    "my = ScratchLogisticRegression(num_iter=100, lr=0.2)\n",
    "my.fit(X_75, y_75)"
   ]
  },
  {
   "cell_type": "code",
   "execution_count": 12,
   "id": "c803ee22-5ff7-4e08-8243-2785bf1c7b23",
   "metadata": {},
   "outputs": [
    {
     "data": {
      "text/plain": [
       "array([0.56811999, 0.47592584, 0.40682322, 0.35395057, 0.31263106,\n",
       "       0.27968958, 0.25294814, 0.23088751, 0.21242762, 0.19678571,\n",
       "       0.18338386, 0.17178794, 0.16166659, 0.15276312, 0.144876  ,\n",
       "       0.13784506, 0.13154155, 0.1258609 , 0.12071737, 0.11604007,\n",
       "       0.11176989, 0.10785719, 0.10425996, 0.10094249, 0.09787417,\n",
       "       0.09502868, 0.09238321, 0.08991796, 0.0876156 , 0.08546097,\n",
       "       0.08344068, 0.08154292, 0.0797572 , 0.07807417, 0.07648552,\n",
       "       0.07498376, 0.07356219, 0.07221477, 0.07093605, 0.06972109,\n",
       "       0.0685654 , 0.06746492, 0.06641593, 0.06541503, 0.06445913,\n",
       "       0.06354539, 0.06267118, 0.06183411, 0.06103195, 0.06026268,\n",
       "       0.0595244 , 0.05881535, 0.05813393, 0.05747861, 0.05684802,\n",
       "       0.05624083, 0.05565585, 0.05509193, 0.05454803, 0.05402314,\n",
       "       0.05351636, 0.0530268 , 0.05255366, 0.05209617, 0.05165361,\n",
       "       0.05122531, 0.05081064, 0.05040899, 0.0500198 , 0.04964254,\n",
       "       0.0492767 , 0.04892181, 0.04857741, 0.04824308, 0.04791842,\n",
       "       0.04760304, 0.04729657, 0.04699868, 0.04670904, 0.04642733,\n",
       "       0.04615325, 0.04588654, 0.0456269 , 0.0453741 , 0.04512789,\n",
       "       0.04488802, 0.04465429, 0.04442648, 0.04420439, 0.04398782,\n",
       "       0.04377658, 0.04357051, 0.04336943, 0.04317317, 0.04298159,\n",
       "       0.04279453, 0.04261185, 0.04243341, 0.04225909, 0.04208875])"
      ]
     },
     "execution_count": 12,
     "metadata": {},
     "output_type": "execute_result"
    }
   ],
   "source": [
    "my.loss"
   ]
  },
  {
   "cell_type": "code",
   "execution_count": 13,
   "id": "71dcecd2-e033-4e7f-bdb4-324c09f72dcc",
   "metadata": {},
   "outputs": [
    {
     "data": {
      "text/plain": [
       "(array([[ 0.73269551, -0.97412727,  1.2617742 ,  1.26632722]]),\n",
       " array([[ 0.73155989, -1.06682127,  1.44630388,  1.48672157]]))"
      ]
     },
     "execution_count": 13,
     "metadata": {},
     "output_type": "execute_result"
    }
   ],
   "source": [
    "my.coef_, LR.coef_"
   ]
  },
  {
   "cell_type": "code",
   "execution_count": 14,
   "id": "071eeed3-013d-4450-917c-126da392838d",
   "metadata": {},
   "outputs": [
    {
     "data": {
      "text/plain": [
       "(array([0.07474007]), array([0.17201232]))"
      ]
     },
     "execution_count": 14,
     "metadata": {},
     "output_type": "execute_result"
    }
   ],
   "source": [
    "my.intercept_, LR.intercept_"
   ]
  },
  {
   "cell_type": "markdown",
   "id": "56fb02ba-7892-4159-9511-93d265347d7d",
   "metadata": {},
   "source": [
    "比較してもそこまで悪くない。  \n",
    "バイアスの値だけ多少ことなる。"
   ]
  },
  {
   "cell_type": "code",
   "execution_count": 15,
   "id": "bfc9eb00-9045-4479-a2b1-65c1792a7347",
   "metadata": {},
   "outputs": [],
   "source": [
    "my_pred_proba = my.predict_proba(X_25)\n",
    "my_pred = my.predict(X_25)"
   ]
  },
  {
   "cell_type": "code",
   "execution_count": 16,
   "id": "9a4e4bad-1264-4238-8e21-1650d3f48e29",
   "metadata": {},
   "outputs": [
    {
     "name": "stdout",
     "output_type": "stream",
     "text": [
      "              precision    recall  f1-score   support\n",
      "\n",
      "           0       1.00      1.00      1.00        13\n",
      "           1       1.00      1.00      1.00        12\n",
      "\n",
      "    accuracy                           1.00        25\n",
      "   macro avg       1.00      1.00      1.00        25\n",
      "weighted avg       1.00      1.00      1.00        25\n",
      "\n",
      "1.0\n"
     ]
    }
   ],
   "source": [
    "print(classification_report(y_25, my_pred))\n",
    "print(roc_auc_score(y_25, my_pred_proba))"
   ]
  },
  {
   "cell_type": "markdown",
   "id": "d909287d-c3a5-496e-83eb-189bdf6396e1",
   "metadata": {},
   "source": [
    "通常モデルと同じ出来栄えになった。"
   ]
  },
  {
   "cell_type": "markdown",
   "id": "79e13268-f912-4018-b23a-5923815dd50d",
   "metadata": {},
   "source": [
    "### 検証データあり"
   ]
  },
  {
   "cell_type": "code",
   "execution_count": 17,
   "id": "33152951-1c3d-4413-9122-579239cfbc5c",
   "metadata": {},
   "outputs": [],
   "source": [
    "my = ScratchLogisticRegression(num_iter=100, lr=0.2)\n",
    "my.fit(X_75, y_75, X_25, y_25)"
   ]
  },
  {
   "cell_type": "code",
   "execution_count": 18,
   "id": "8f66b95c-a989-4452-bf35-6a11bafa2ab3",
   "metadata": {},
   "outputs": [
    {
     "data": {
      "text/plain": [
       "array([0.56469075, 0.47033607, 0.39993485, 0.3463398 , 0.30468068,\n",
       "       0.27165351, 0.24499474, 0.2231281 , 0.20493523, 0.18960739,\n",
       "       0.17654895, 0.16531361, 0.15556155, 0.14703026, 0.13951416,\n",
       "       0.13285029, 0.12690801, 0.12158148, 0.11678416, 0.11244466,\n",
       "       0.10850362, 0.10491128, 0.10162569, 0.09861123, 0.09583746,\n",
       "       0.09327827, 0.09091107, 0.08871632, 0.08667695, 0.08477803,\n",
       "       0.08300646, 0.08135066, 0.07980039, 0.07834656, 0.07698107,\n",
       "       0.07569667, 0.07448688, 0.07334585, 0.07226833, 0.07124957,\n",
       "       0.07028528, 0.06937156, 0.06850484, 0.06768191, 0.06689981,\n",
       "       0.06615583, 0.06544751, 0.06477258, 0.06412893, 0.06351465,\n",
       "       0.06292797, 0.06236724, 0.06183095, 0.0613177 , 0.06082617,\n",
       "       0.06035516, 0.05990355, 0.05947028, 0.05905437, 0.05865493,\n",
       "       0.05827109, 0.05790206, 0.0575471 , 0.05720551, 0.05687662,\n",
       "       0.05655984, 0.05625457, 0.05596028, 0.05567646, 0.05540262,\n",
       "       0.05513832, 0.05488312, 0.05463661, 0.05439843, 0.05416821,\n",
       "       0.0539456 , 0.05373029, 0.05352196, 0.05332033, 0.05312512,\n",
       "       0.05293608, 0.05275295, 0.05257549, 0.0524035 , 0.05223674,\n",
       "       0.05207502, 0.05191815, 0.05176593, 0.05161821, 0.0514748 ,\n",
       "       0.05133556, 0.05120032, 0.05106895, 0.0509413 , 0.05081724,\n",
       "       0.05069664, 0.05057939, 0.05046536, 0.05035446, 0.05024656])"
      ]
     },
     "execution_count": 18,
     "metadata": {},
     "output_type": "execute_result"
    }
   ],
   "source": [
    "my.val_loss"
   ]
  },
  {
   "cell_type": "code",
   "execution_count": 19,
   "id": "e61615ff-ac46-4c80-89fc-cc54240f6745",
   "metadata": {},
   "outputs": [
    {
     "data": {
      "text/plain": [
       "array([0.56811999, 0.47592584, 0.40682322, 0.35395057, 0.31263106,\n",
       "       0.27968958, 0.25294814, 0.23088751, 0.21242762, 0.19678571,\n",
       "       0.18338386, 0.17178794, 0.16166659, 0.15276312, 0.144876  ,\n",
       "       0.13784506, 0.13154155, 0.1258609 , 0.12071737, 0.11604007,\n",
       "       0.11176989, 0.10785719, 0.10425996, 0.10094249, 0.09787417,\n",
       "       0.09502868, 0.09238321, 0.08991796, 0.0876156 , 0.08546097,\n",
       "       0.08344068, 0.08154292, 0.0797572 , 0.07807417, 0.07648552,\n",
       "       0.07498376, 0.07356219, 0.07221477, 0.07093605, 0.06972109,\n",
       "       0.0685654 , 0.06746492, 0.06641593, 0.06541503, 0.06445913,\n",
       "       0.06354539, 0.06267118, 0.06183411, 0.06103195, 0.06026268,\n",
       "       0.0595244 , 0.05881535, 0.05813393, 0.05747861, 0.05684802,\n",
       "       0.05624083, 0.05565585, 0.05509193, 0.05454803, 0.05402314,\n",
       "       0.05351636, 0.0530268 , 0.05255366, 0.05209617, 0.05165361,\n",
       "       0.05122531, 0.05081064, 0.05040899, 0.0500198 , 0.04964254,\n",
       "       0.0492767 , 0.04892181, 0.04857741, 0.04824308, 0.04791842,\n",
       "       0.04760304, 0.04729657, 0.04699868, 0.04670904, 0.04642733,\n",
       "       0.04615325, 0.04588654, 0.0456269 , 0.0453741 , 0.04512789,\n",
       "       0.04488802, 0.04465429, 0.04442648, 0.04420439, 0.04398782,\n",
       "       0.04377658, 0.04357051, 0.04336943, 0.04317317, 0.04298159,\n",
       "       0.04279453, 0.04261185, 0.04243341, 0.04225909, 0.04208875])"
      ]
     },
     "execution_count": 19,
     "metadata": {},
     "output_type": "execute_result"
    }
   ],
   "source": [
    "my.loss"
   ]
  },
  {
   "cell_type": "markdown",
   "id": "5478346a-d6f9-422e-a56d-7b97db206eb6",
   "metadata": {},
   "source": [
    "## 【問題6】学習曲線のプロット\n",
    "学習曲線を見て損失が適切に下がっているかどうか確認してください。"
   ]
  },
  {
   "cell_type": "code",
   "execution_count": 20,
   "id": "e368acc2-6aa2-42b8-b5e5-1020e380ce35",
   "metadata": {},
   "outputs": [
    {
     "data": {
      "image/png": "[encoded data removed]",
      "text/plain": [
       "<Figure size 432x288 with 1 Axes>"
      ]
     },
     "metadata": {
      "needs_background": "light"
     },
     "output_type": "display_data"
    }
   ],
   "source": [
    "plt.plot(np.arange(my.iter), my.loss, label='loss')\n",
    "plt.plot(np.arange(my.iter), my.val_loss, label='val_loss')\n",
    "plt.xlabel('iteration')\n",
    "plt.ylabel('loss')\n",
    "plt.title('learning curve')\n",
    "plt.legend();"
   ]
  },
  {
   "cell_type": "markdown",
   "id": "535486cc-bd6b-4e2a-8775-142a1b219b48",
   "metadata": {},
   "source": [
    "大体予想通り下がった"
   ]
  },
  {
   "cell_type": "markdown",
   "id": "4f898faf-fa3c-4abd-910a-807f3798c98c",
   "metadata": {},
   "source": [
    "## 【問題7】決定領域の可視化\n",
    "決定領域を可視化してください。"
   ]
  },
  {
   "cell_type": "markdown",
   "id": "45092a85-864e-404d-b261-b452e16afa5a",
   "metadata": {},
   "source": [
    "4次元では可視化できないので、２次元のデータセットに変更"
   ]
  },
  {
   "cell_type": "code",
   "execution_count": 21,
   "id": "a67d5f14-d308-4ca6-bf9c-b36e86f72b00",
   "metadata": {},
   "outputs": [
    {
     "data": {
      "text/plain": [
       "(75, 2)"
      ]
     },
     "execution_count": 21,
     "metadata": {},
     "output_type": "execute_result"
    }
   ],
   "source": [
    "X2_75 = X_75[:, 1:3]\n",
    "X2_25 = X_25[:, 1:3]\n",
    "X2_75.shape"
   ]
  },
  {
   "cell_type": "code",
   "execution_count": 22,
   "id": "f605f9ae-f928-439f-8dd4-2a7867d68ca9",
   "metadata": {},
   "outputs": [],
   "source": [
    "import matplotlib.pyplot as plt\n",
    "from matplotlib.colors import ListedColormap\n",
    "import matplotlib.patches as mpatches\n",
    "\n",
    "\n",
    "def decision_region(X, y, model, step=0.01, title='decision region', xlabel='Sepal length', ylabel='Petal length', target_names=['versicolor', 'virginica']):\n",
    "    \"\"\"\n",
    "    2値分類を2次元の特徴量で学習したモデルの決定領域を描く。\n",
    "    背景の色が学習したモデルによる推定値から描画される。\n",
    "    散布図の点は訓練データまたは検証データである。\n",
    "    Parameters\n",
    "    ----------------\n",
    "    X : ndarray, shape(n_samples, 2)\n",
    "        特徴量\n",
    "    y : ndarray, shape(n_samples,)\n",
    "        ラベル\n",
    "    model : object\n",
    "        学習したモデルのインスンタスを入れる\n",
    "    step : float, (default : 0.1)\n",
    "        推定値を計算する間隔を設定する\n",
    "    title : str\n",
    "        グラフのタイトルの文章を与える\n",
    "    xlabel, ylabel : str\n",
    "        軸ラベルの文章を与える\n",
    "    target_names= : list of str\n",
    "        凡例の一覧を与える\n",
    "    \"\"\"\n",
    "    # setting\n",
    "    scatter_color = ['red', 'blue']\n",
    "    contourf_color = ['pink', 'skyblue']\n",
    "    n_class = 2\n",
    "    # pred\n",
    "    a = np.min(X[:,0])-0.5 # Sepallabelの最小値-0.5\n",
    "    b = np.max(X[:,0])+0.5 # Sepallabelの最大値+0.5\n",
    "    c = np.min(X[:,1])-0.5 # Petallabelの最小値-0.5\n",
    "    d = np.max(X[:,1])+0.5 # Petallabelの最小値+0.5\n",
    "    mesh_f0, mesh_f1  = np.meshgrid(np.arange(a, b, step), np.arange(c, d, step))\n",
    "    \n",
    "    e = np.ravel(mesh_f0) #列が全部指定したもの\n",
    "    f = np.ravel(mesh_f1) #行が全部指定したもの\n",
    "    \n",
    "    mesh = np.c_[e,f] # グラフ領域(2次元)に左上から00.01-といった形で数字をつけた\n",
    "    y_pred = model.predict(mesh).reshape(mesh_f0.shape)\n",
    "    # plot\n",
    "    plt.title(title)\n",
    "    plt.xlabel(xlabel)\n",
    "    plt.ylabel(ylabel)\n",
    "    plt.contourf(mesh_f0, mesh_f1, y_pred, n_class-1, cmap=ListedColormap(contourf_color)) # 等高線の間の色付\n",
    "    plt.contour(mesh_f0, mesh_f1, y_pred, n_class-1, colors='y', linewidths=3, alpha=0.5)# 等高線の描画\n",
    "    for i, target in enumerate(set(y)):\n",
    "        plt.scatter(X[y==target][:, 0], X[y==target][:, 1], s=80, color=scatter_color[i], label=target_names[i], marker='o') # 散布図の作成\n",
    "    patches = [mpatches.Patch(color=scatter_color[i], label=target_names[i]) for i in range(n_class)] # よくわからんけど凡例の書き方を入れてる\n",
    "    plt.legend(handles=patches)\n",
    "    plt.legend()\n",
    "    plt.show()"
   ]
  },
  {
   "cell_type": "code",
   "execution_count": 23,
   "id": "b8834849-2db9-4865-9d4c-5b657ac3fec0",
   "metadata": {},
   "outputs": [],
   "source": [
    "my.fit(X2_75, y_75)"
   ]
  },
  {
   "cell_type": "code",
   "execution_count": 24,
   "id": "33f6815e-3810-4703-89f8-57ebc99fad51",
   "metadata": {},
   "outputs": [
    {
     "data": {
      "image/png": "[encoded data removed]",
      "text/plain": [
       "<Figure size 432x288 with 1 Axes>"
      ]
     },
     "metadata": {
      "needs_background": "light"
     },
     "output_type": "display_data"
    }
   ],
   "source": [
    "decision_region(X2_75, y_75['Species'], my)"
   ]
  },
  {
   "cell_type": "markdown",
   "id": "802297e2-d9c7-4bc6-a419-4e52c9875e64",
   "metadata": {},
   "source": [
    "## 【問題8】（アドバンス課題）重みの保存\n",
    "検証が容易になるように、学習した重みを保存および読み込みができるようにしましょう。pickleモジュールやNumPyのnp.savezを利用します。"
   ]
  },
  {
   "cell_type": "code",
   "execution_count": 26,
   "id": "bb08191d-ba94-49c7-8919-40f383e3e611",
   "metadata": {},
   "outputs": [],
   "source": [
    "loss = my.loss\n",
    "np.save('loss_test', loss)"
   ]
  },
  {
   "cell_type": "code",
   "execution_count": 29,
   "id": "272e795f-e451-4e44-84c6-88abd77972d8",
   "metadata": {},
   "outputs": [
    {
     "data": {
      "text/plain": [
       "array([0.62574354, 0.56854375, 0.51982626, 0.4781218 , 0.44220908,\n",
       "       0.41108864, 0.38394896, 0.36013294, 0.33910811, 0.3204417 ,\n",
       "       0.30378044, 0.28883441, 0.27536433, 0.26317158, 0.25209024,\n",
       "       0.24198098, 0.23272605, 0.22422544, 0.21639376, 0.20915768,\n",
       "       0.20245399, 0.19622792, 0.19043179, 0.18502395, 0.17996786,\n",
       "       0.17523136, 0.17078599, 0.16660654, 0.1626706 , 0.15895813,\n",
       "       0.15545123, 0.15213383, 0.14899146, 0.14601106, 0.14318085,\n",
       "       0.14049011, 0.13792914, 0.13548909, 0.13316188, 0.13094015,\n",
       "       0.12881713, 0.12678662, 0.12484294, 0.12298083, 0.12119547,\n",
       "       0.11948239, 0.11783745, 0.11625685, 0.11473702, 0.11327468,\n",
       "       0.11186677, 0.11051042, 0.10920299, 0.10794199, 0.10672511,\n",
       "       0.10555018, 0.10441516, 0.10331815, 0.10225738, 0.10123116,\n",
       "       0.10023791, 0.09927616, 0.09834451, 0.09744163, 0.0965663 ,\n",
       "       0.09571734, 0.09489363, 0.09409414, 0.09331787, 0.09256388,\n",
       "       0.09183129, 0.09111925, 0.09042696, 0.08975366, 0.08909864,\n",
       "       0.08846119, 0.08784068, 0.08723648, 0.086648  , 0.08607467,\n",
       "       0.08551595, 0.08497134, 0.08444035, 0.08392249, 0.08341734,\n",
       "       0.08292446, 0.08244344, 0.0819739 , 0.08151545, 0.08106774,\n",
       "       0.08063043, 0.08020318, 0.07978568, 0.07937764, 0.07897875,\n",
       "       0.07858873, 0.07820733, 0.07783428, 0.07746933, 0.07711225])"
      ]
     },
     "execution_count": 29,
     "metadata": {},
     "output_type": "execute_result"
    }
   ],
   "source": [
    "np.load('loss_test.npy')"
   ]
  },
  {
   "cell_type": "code",
   "execution_count": null,
   "id": "3c3bf5ee-3511-490b-bd76-b222198eb96a",
   "metadata": {},
   "outputs": [],
   "source": []
  }
 ],
 "metadata": {
  "kernelspec": {
   "display_name": "Python 3",
   "language": "python",
   "name": "python3"
  },
  "language_info": {
   "codemirror_mode": {
    "name": "ipython",
    "version": 3
   },
   "file_extension": ".py",
   "mimetype": "text/x-python",
   "name": "python",
   "nbconvert_exporter": "python",
   "pygments_lexer": "ipython3",
   "version": "3.8.8"
  }
 },
 "nbformat": 4,
 "nbformat_minor": 5
}
