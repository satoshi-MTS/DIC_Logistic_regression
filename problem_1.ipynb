{
 "cells": [
  {
   "cell_type": "markdown",
   "id": "e6be6805-cbe2-465a-9fae-53e906da4e98",
   "metadata": {},
   "source": [
    "## 【問題1】仮定関数\n",
    "ロジスティック回帰の仮定関数のメソッドをScratchLogisticRegressionクラスに実装してください。\n",
    "\n",
    "\n",
    "ロジスティック回帰の仮定関数は、線形回帰の仮定関数を シグモイド関数 に通したものです。シグモイド関数は以下の式で表されます。\n",
    "\n",
    "$$g(z) = \\frac{1}{1+e^{-\\theta^T x}}$$"
   ]
  },
  {
   "cell_type": "code",
   "execution_count": 1,
   "id": "5c672db7-7baa-4889-b80f-efa75c93e60a",
   "metadata": {},
   "outputs": [],
   "source": [
    "import numpy as np\n",
    "import pandas as pd\n",
    "import matplotlib.pyplot as plt"
   ]
  },
  {
   "cell_type": "code",
   "execution_count": 2,
   "id": "07023699-1297-4678-a611-984e8c90f4c5",
   "metadata": {},
   "outputs": [],
   "source": [
    "train_x = np.array([[1, 1, 1, 1, 1], [0, 1, 2, 3, 4]]).T\n",
    "theta = np.array([[1, 1]]).T"
   ]
  },
  {
   "cell_type": "code",
   "execution_count": 3,
   "id": "c821c368-cc26-4b03-b6a3-f7863f7b7189",
   "metadata": {},
   "outputs": [],
   "source": [
    "def _linear_hypothesis(X, theta):\n",
    "    \"\"\"\n",
    "    線形の仮定関数を計算する\n",
    "    Parameters\n",
    "    ----------\n",
    "    X : 次の形のndarray, shape (n_samples, n_features)\n",
    "      訓練データ\n",
    "    theta_T : 次の形のndarray, shape (n_features, 1)\n",
    "    Returns\n",
    "    -------\n",
    "      次の形のndarray, shape (n_samples, 1)\n",
    "      線形の仮定関数による推定結果\n",
    "    \"\"\"\n",
    "    \n",
    "    h = 1 / (1 + np.exp(-(X @ theta)))\n",
    "    \n",
    "    return h"
   ]
  },
  {
   "cell_type": "code",
   "execution_count": 4,
   "id": "6d1361f3-e397-45cd-abc6-79efe61eda47",
   "metadata": {},
   "outputs": [
    {
     "data": {
      "text/plain": [
       "array([[0.73105858],\n",
       "       [0.88079708],\n",
       "       [0.95257413],\n",
       "       [0.98201379],\n",
       "       [0.99330715]])"
      ]
     },
     "execution_count": 4,
     "metadata": {},
     "output_type": "execute_result"
    }
   ],
   "source": [
    "_linear_hypothesis(train_x, theta)"
   ]
  },
  {
   "cell_type": "code",
   "execution_count": null,
   "id": "43d30d38-a230-406c-8cd1-1d7304f09957",
   "metadata": {},
   "outputs": [],
   "source": []
  }
 ],
 "metadata": {
  "kernelspec": {
   "display_name": "Python 3",
   "language": "python",
   "name": "python3"
  },
  "language_info": {
   "codemirror_mode": {
    "name": "ipython",
    "version": 3
   },
   "file_extension": ".py",
   "mimetype": "text/x-python",
   "name": "python",
   "nbconvert_exporter": "python",
   "pygments_lexer": "ipython3",
   "version": "3.8.8"
  }
 },
 "nbformat": 4,
 "nbformat_minor": 5
}
