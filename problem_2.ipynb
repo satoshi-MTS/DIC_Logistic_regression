{
 "cells": [
  {
   "cell_type": "markdown",
   "id": "67317ec8-bd44-4e74-9ea3-cab4ab54dc9e",
   "metadata": {},
   "source": [
    "## 【問題2】最急降下法\n",
    "最急降下法により学習させる実装を行なってください。以下の式で表されるパラメータの更新式のメソッド_gradient_descentを追加し、fitメソッドから呼び出すようにしてください。"
   ]
  },
  {
   "cell_type": "markdown",
   "id": "33dd20d1-9bb7-423d-bfc2-e0b51f8881f5",
   "metadata": {},
   "source": [
    "$$\\frac{\\partial j(\\theta)}{\\partial\\theta_j} = \\frac{1}{m}\\sum_{i=1}^m(h_\\theta(x^{(i)})-y^{(i)}x_j^{(i)})+\\frac{\\lambda}{m}\\theta_j$$\n",
    "\n",
    "ただしバイアスに対しての更新式は\n",
    "$$\\frac{\\partial j(\\theta)}{\\partial\\theta_0} = \\frac{1}{m}\\sum_{i=1}^m(h_\\theta(x^{(i)})-y^{(i)}x_j^{(i)})$$\n",
    "とする。  \n",
    "バイアスの重みにペナルティを与えない(正則化項の微分を加えない)理由としては、バイアスに関してはペナルティによらず自由に動いてほしいからという理由らしい...  \n",
    "  \n",
    "線形回帰とかの正則化項がないモデルとバイアスの値が大きく変わってしまうから？？  \n",
    "仮にペナルティが大きいとバイアスがないのと同義になってしまうから？"
   ]
  },
  {
   "cell_type": "code",
   "execution_count": 1,
   "id": "3b07f5a8-6865-4095-ba2b-147e14bcbf24",
   "metadata": {},
   "outputs": [],
   "source": [
    "import numpy as np\n",
    "import pandas as pd\n",
    "import matplotlib.pyplot as plt"
   ]
  },
  {
   "cell_type": "code",
   "execution_count": 2,
   "id": "b4d0df60-7be2-4fd4-b0d3-5c6011f2cb1b",
   "metadata": {},
   "outputs": [],
   "source": [
    "def _linear_hypothesis(X, theta):\n",
    "    \"\"\"\n",
    "    線形の仮定関数を計算する\n",
    "    Parameters\n",
    "    ----------\n",
    "    X : 次の形のndarray, shape (n_samples, n_features)\n",
    "    訓練データ\n",
    "    theta : 次の形のndarray, shape (n_features, 1)\n",
    "    重み\n",
    "     \n",
    "    Returns\n",
    "    -------\n",
    "      次の形のndarray, shape (n_samples, 1)\n",
    "      線形の仮定関数による推定結果\n",
    "    \"\"\"\n",
    "    \n",
    "    h = 1 / (1 + np.exp(-(X @ theta)))\n",
    "    \n",
    "    return h"
   ]
  },
  {
   "cell_type": "code",
   "execution_count": 3,
   "id": "bedcde3e-0877-406a-a3a4-6022ecc4bb20",
   "metadata": {},
   "outputs": [],
   "source": [
    "def _gradient_descent(X, y, theta, lr=0.1, lambd = 1.0 ):\n",
    "    \"\"\"\n",
    "    傾きを計算する。\n",
    "    Parameters\n",
    "    ----------\n",
    "    X : 次の形のndarray, shape (n_samples, n_features)\n",
    "    訓練データ\n",
    "    y : 次の形のndarray, shape (n_samples, 1)\n",
    "    目的データ\n",
    "    theta : 次の形のndarray, shape(n_features, 1)\n",
    "    更新されていく重み\n",
    "    lr : float\n",
    "    学習率\n",
    "    lambd : float\n",
    "    ペナルティの重み\n",
    "    Returns\n",
    "    -------\n",
    "    次の形のndarray, shape (n_samples, 1)\n",
    "    更新後のtheta\n",
    "    \"\"\"\n",
    "    for j in range(X.shape[1]):\n",
    "        \n",
    "        #\n",
    "        #バイアス\n",
    "        #\n",
    "        if j == 0:\n",
    "        \n",
    "            sigma = (X[:, j].T @ (_linear_hypothesis(X, theta) - y))\n",
    "            theta[j] = theta[j] - ((lr / X.shape[0]) * sigma)\n",
    "        #\n",
    "        # バイアス以外\n",
    "        #\n",
    "        else:\n",
    "            \n",
    "            sigma = (X[:, j].T @ (_linear_hypothesis(X, theta) - y))\n",
    "            theta[j] = theta[j] - (1 / X.shape[0] * (sigma + lambd  * theta[j]))\n",
    "\n",
    "    return theta"
   ]
  },
  {
   "cell_type": "code",
   "execution_count": 4,
   "id": "20511d8c-2bd6-403d-bbcf-4e1f86234276",
   "metadata": {},
   "outputs": [],
   "source": [
    "test_x = np.array([[1, 1, 1, 1, 1], [0, 1, 2, 3, 4]]).T\n",
    "test_theta = np.array([[1, 1]]).T\n",
    "test_y = np.array([[5, 5, 5, 5, 5]]).T"
   ]
  },
  {
   "cell_type": "code",
   "execution_count": 6,
   "id": "bfbb299d-c079-4603-85cc-64922fe9a9b2",
   "metadata": {},
   "outputs": [
    {
     "data": {
      "text/plain": [
       "array([[ 1],\n",
       "       [14]])"
      ]
     },
     "execution_count": 6,
     "metadata": {},
     "output_type": "execute_result"
    }
   ],
   "source": [
    "_gradient_descent(test_x, test_y, test_theta)"
   ]
  },
  {
   "cell_type": "code",
   "execution_count": null,
   "id": "24d5e898-7a17-4b40-a25b-bf1f8d0253be",
   "metadata": {},
   "outputs": [],
   "source": []
  }
 ],
 "metadata": {
  "kernelspec": {
   "display_name": "Python 3",
   "language": "python",
   "name": "python3"
  },
  "language_info": {
   "codemirror_mode": {
    "name": "ipython",
    "version": 3
   },
   "file_extension": ".py",
   "mimetype": "text/x-python",
   "name": "python",
   "nbconvert_exporter": "python",
   "pygments_lexer": "ipython3",
   "version": "3.8.8"
  }
 },
 "nbformat": 4,
 "nbformat_minor": 5
}
